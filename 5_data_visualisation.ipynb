{
 "cells": [
  {
   "cell_type": "code",
   "execution_count": null,
   "metadata": {},
   "outputs": [],
   "source": [
    "import pandas as pd"
   ]
  },
  {
   "cell_type": "code",
   "execution_count": null,
   "metadata": {},
   "outputs": [],
   "source": [
    "orders_url = \"https://drive.google.com/file/d/143CzG5DriVSPMkaL1UP4k3Y80oS8fgbV/view?usp=sharing\"\n",
    "orderlines_url = \"https://drive.google.com/file/d/1yWO-mQfxQtnSZdCgdNlIEUrZSCW1HN5O/view?usp=sharing\"\n",
    "products_url = \"https://drive.google.com/file/d/1s7Lai4NSlsYjGEPg1QSOUJobNYVsZBOJ/view?usp=sharing\"\n",
    "brands_url = \"https://drive.google.com/file/d/1XGyabaa4mAkjixMk3XPgx_14OoSse3rs/view?usp=sharing\"\n",
    "\n",
    "def import_csv(url):\n",
    "  path = \"https://drive.google.com/uc?export=download&id=\"+url.split(\"/\")[-2]\n",
    "  return pd.read_csv(path)\n",
    "\n",
    "# Importing csvs and correcting data types\n",
    "orderlines_qu = import_csv(orderlines_url)\n",
    "orderlines_qu['date'] = pd.to_datetime(orderlines_qu['date'])\n",
    "orders_qu = import_csv(orders_url)\n",
    "orders_qu['created_date'] = pd.to_datetime(orders_qu['created_date'])\n",
    "products_cl = import_csv(products_url)\n",
    "brands_df = import_csv(brands_url)\n",
    "\n",
    "# Incorporating additional information into orderlines data frame\n",
    "orderlines_qu['short'] = orderlines_qu['sku'].str[:3]\n",
    "orderlines_expanded = (\n",
    "    orderlines_qu\n",
    "    .merge(products_cl,\n",
    "           on='sku')\n",
    "    .merge(brands_df,\n",
    "           on='short')\n",
    "    .rename(columns={'long':'brand'})\n",
    "    .drop(columns='short')\n",
    ")\n",
    "# Creating composite columns\n",
    "orderlines_expanded['revenue'] = (\n",
    "    orderlines_expanded['unit_price'] * orderlines_expanded['product_quantity']\n",
    ")\n",
    "orderlines_expanded['discount'] = (\n",
    "    orderlines_expanded['price'] - orderlines_expanded['unit_price']\n",
    ")\n",
    "orderlines_expanded['total_discount'] = (\n",
    "    orderlines_expanded['discount'] * orderlines_expanded['product_quantity']\n",
    ")\n",
    "orderlines_expanded['percentage_discount'] = (\n",
    "    100 * orderlines_expanded['discount'] / orderlines_expanded['price']\n",
    ")"
   ]
  }
 ],
 "metadata": {
  "kernelspec": {
   "display_name": "py312env",
   "language": "python",
   "name": "python3"
  },
  "language_info": {
   "name": "python",
   "version": "3.12.7"
  }
 },
 "nbformat": 4,
 "nbformat_minor": 2
}
