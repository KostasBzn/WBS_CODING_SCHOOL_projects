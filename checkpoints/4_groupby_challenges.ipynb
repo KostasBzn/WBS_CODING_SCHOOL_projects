{
 "cells": [
  {
   "cell_type": "markdown",
   "metadata": {
    "id": "MGfHi2emuFvJ"
   },
   "source": [
    "# Grouping and aggregating data\n",
    "\n",
    "Most of the time, in pandas, we use `.groupby()` to group and aggregate data. This is a function that splits your data into certain categories, and then performs an aggregation, transformation, or filtration to those categories. Today we will only be looking at `.groupby()` and aggregations, and how they can help us to analyse our data. We will also learn about `resample()` as an alternative, more concise way to group dates and times.\n",
    "\n",
    "As always, let's start by reading the data:"
   ]
  },
  {
   "cell_type": "code",
   "execution_count": null,
   "metadata": {
    "id": "Lq7zsZka4q2m"
   },
   "outputs": [],
   "source": [
    "import pandas as pd"
   ]
  },
  {
   "cell_type": "code",
   "execution_count": null,
   "metadata": {
    "id": "30IJsE7t49Eu"
   },
   "outputs": [],
   "source": [
    "# orders_cl.csv\n",
    "url = \"https://drive.google.com/file/d/1Tla62vfu__kCqvgypZyVt2S9VuC016yH/view?usp=sharing\"\n",
    "path = \"https://drive.google.com/uc?export=download&id=\"+url.split(\"/\")[-2]\n",
    "orders_cl = pd.read_csv(path)\n",
    "\n",
    "# orderlines_cl.csv\n",
    "url = \"https://drive.google.com/file/d/1OhtkQS2fwOYdzfd-qPh7im35iLc-L9TA/view?usp=sharing\"\n",
    "path = \"https://drive.google.com/uc?export=download&id=\"+url.split(\"/\")[-2]\n",
    "orderlines_cl = pd.read_csv(path)\n",
    "\n",
    "# products_cl.csv\n",
    "url = \"https://drive.google.com/file/d/1s7Lai4NSlsYjGEPg1QSOUJobNYVsZBOJ/view?usp=sharing\"\n",
    "path = \"https://drive.google.com/uc?export=download&id=\"+url.split(\"/\")[-2]\n",
    "products_cl = pd.read_csv(path)\n",
    "\n",
    "# brands_cl.csv\n",
    "url = \"https://drive.google.com/file/d/1XGyabaa4mAkjixMk3XPgx_14OoSse3rs/view?usp=sharing\"\n",
    "path = \"https://drive.google.com/uc?export=download&id=\"+url.split(\"/\")[-2]\n",
    "brands = pd.read_csv(path)"
   ]
  },
  {
   "cell_type": "code",
   "execution_count": null,
   "metadata": {
    "id": "97-FGws5RzTk"
   },
   "outputs": [],
   "source": [
    "ol_df = orderlines_cl.copy()"
   ]
  },
  {
   "cell_type": "code",
   "execution_count": null,
   "metadata": {
    "id": "sD3zRjTyk-9h"
   },
   "outputs": [],
   "source": [
    "ol_df.info()"
   ]
  },
  {
   "cell_type": "markdown",
   "metadata": {
    "id": "O5JVxtyQnzLV"
   },
   "source": [
    "Change `date` to datetime."
   ]
  },
  {
   "cell_type": "code",
   "execution_count": null,
   "metadata": {
    "id": "MxwG7CJ9lIQB"
   },
   "outputs": [],
   "source": [
    "ol_df[\"date\"] = pd.to_datetime(ol_df[\"date\"])"
   ]
  },
  {
   "cell_type": "markdown",
   "metadata": {
    "id": "BXWNhA9C2KsO"
   },
   "source": [
    "## 1.&nbsp; `.groupby` a single feature"
   ]
  },
  {
   "cell_type": "markdown",
   "metadata": {
    "id": "uuxv5HPeUcJp"
   },
   "source": [
    "When we use the `.groupby()` method, we always state in the parentheses the name of the column that contains the categories that should be grouped. For example, we are grouping here by the product number (SKU), which will give us one line per sku. `.count()` will tell us how many rows have been condensed into each group."
   ]
  },
  {
   "cell_type": "code",
   "execution_count": null,
   "metadata": {
    "id": "4WAJ97U7Ryp8"
   },
   "outputs": [],
   "source": [
    "ol_df.groupby(\"sku\").count()"
   ]
  },
  {
   "cell_type": "markdown",
   "metadata": {
    "id": "Jpu853EhFWD2"
   },
   "source": [
    "Notice how in this \"grouped\" DataFrame we have 6798 rows: one row for each unique `sku`. In the original DataFrame we had many more rows:"
   ]
  },
  {
   "cell_type": "code",
   "execution_count": null,
   "metadata": {
    "id": "fRrHMdH1Fgpf"
   },
   "outputs": [],
   "source": [
    "ol_df.shape"
   ]
  },
  {
   "cell_type": "markdown",
   "metadata": {
    "id": "NXx21qYyVM76"
   },
   "source": [
    "As you can see above, the same number of rows were condensed for each column, this is to be expected when we use `count()` as the aggregation function. However, if we use an aggregate such as `.sum()`, then we get the total for the condensed values of each column:"
   ]
  },
  {
   "cell_type": "code",
   "execution_count": null,
   "metadata": {
    "id": "UJhFi7a3Vr7c"
   },
   "outputs": [],
   "source": [
    "# here we use numeric=true as ol_df contains a datetime column, which is excluded by using this parameter\n",
    "# by default numeric_only = False\n",
    "\n",
    "ol_df.groupby(\"sku\").sum(numeric_only=True)"
   ]
  },
  {
   "cell_type": "markdown",
   "metadata": {
    "id": "qxpruL7bV26a"
   },
   "source": [
    "Now, obviously, not all of the information above matters: it's not relevant what the sum of the `id`'s is. So, let's select the `product_quantity` and see how many units of each product were sold:"
   ]
  },
  {
   "cell_type": "code",
   "execution_count": null,
   "metadata": {
    "id": "156UzFjzSpuS"
   },
   "outputs": [],
   "source": [
    "ol_df.groupby(\"sku\")[\"product_quantity\"].sum()"
   ]
  },
  {
   "cell_type": "markdown",
   "metadata": {
    "id": "JGyvEWtKWiBn"
   },
   "source": [
    "It can be useful sometimes to sort the values from highest to lowest. With the `.sum()` of `product_quantity` this will help us to see how many of each item we sold in order of quantity."
   ]
  },
  {
   "cell_type": "code",
   "execution_count": null,
   "metadata": {
    "id": "A99m-tRCT9RK"
   },
   "outputs": [],
   "source": [
    "(\n",
    "    ol_df\n",
    "    .groupby(\"sku\")\n",
    "    [\"product_quantity\"].sum()\n",
    "    .sort_values(ascending=False)\n",
    ")"
   ]
  },
  {
   "cell_type": "code",
   "execution_count": null,
   "metadata": {
    "id": "9bMoRy623ibA"
   },
   "outputs": [],
   "source": [
    "products_cl.loc[products_cl['sku']=='APP1190']"
   ]
  },
  {
   "cell_type": "code",
   "execution_count": null,
   "metadata": {
    "id": "9WE8RcHo3x_l"
   },
   "outputs": [],
   "source": [
    "ol_df.loc[ol_df['product_quantity']>50].merge(products_cl,\n",
    "                                              on='sku',\n",
    "                                              how='left'\n",
    "                                              ).merge(orders_cl,\n",
    "                                                      left_on='id_order',\n",
    "                                                      right_on='order_id',\n",
    "                                                      how='left'\n",
    "                                                      )[\n",
    "                                                  ['unit_price',\n",
    "                                                   'product_quantity',\n",
    "                                                   'desc',\n",
    "                                                   'name',\n",
    "                                                   'state']]"
   ]
  },
  {
   "cell_type": "markdown",
   "metadata": {
    "id": "D58-EP0Snmi-"
   },
   "source": [
    "Or if you wish for only a certain number of the largest or smallest numbers, remember you can use `.nlargest()` or `.nsmallest()`"
   ]
  },
  {
   "cell_type": "code",
   "execution_count": null,
   "metadata": {
    "id": "jPKxQPDen0tO"
   },
   "outputs": [],
   "source": [
    "(\n",
    "    ol_df\n",
    "    .groupby(\"sku\")\n",
    "    [\"product_quantity\"].sum()\n",
    "    .nlargest(5)\n",
    ")"
   ]
  },
  {
   "cell_type": "markdown",
   "metadata": {
    "id": "A8fNKlbMkC9c"
   },
   "source": [
    "### 1.1.&nbsp; List of aggregates\n",
    "\n",
    "It is possible to use many different aggregates besides just `.sum()` and `.count()`. A full list can be found [here](https://pandas.pydata.org/docs/reference/groupby.html), and below are a few of the most useful.\n",
    "\n",
    "* `.count()` – Number of non-null observations\n",
    "* `.sum()` – Sum of values\n",
    "* `.mean()` – Mean of values\n",
    "* `.median()` – Median of values\n",
    "* `.min()` – Minimum\n",
    "* `.max()` – Maximum\n",
    "* `.std()` – Standard deviation"
   ]
  },
  {
   "cell_type": "markdown",
   "metadata": {
    "id": "2hCaahyEki_6"
   },
   "source": [
    "### 1.2.&nbsp; `.agg()`\n",
    "We are not restricted to only using one aggregate at a time. We can use the `.agg()` method to see multiple aggregates at once."
   ]
  },
  {
   "cell_type": "markdown",
   "metadata": {
    "id": "_4uueTuf_Ypk"
   },
   "source": [
    "#### 1.2.1.&nbsp; multiple aggregates for one column\n",
    "Here we first `.groupby()` the `sku`'s, then take the column `product quantity`, and look at both the `.sum()` and `.count()` of `product_quantity`. We also here reduced our DataFrame to the 10 largest `sku`\"s according to the `.sum()` of `product_quantity`.\n",
    "\n",
    "> **Tip:** when working with many Pandas methods chained one after the other, wrap all the statement in parenthesis and add a line break before any `.method()`. It will improve the readability of the code*"
   ]
  },
  {
   "cell_type": "code",
   "execution_count": null,
   "metadata": {
    "id": "AMktUr14kGv0"
   },
   "outputs": [],
   "source": [
    "(\n",
    "    ol_df\n",
    "    .groupby(\"sku\")\n",
    "    [\"product_quantity\"].agg([\"sum\", \"count\"])\n",
    "    .nlargest(10, \"sum\")\n",
    ")"
   ]
  },
  {
   "cell_type": "markdown",
   "metadata": {
    "id": "5TqpcLupNU7n"
   },
   "source": [
    "#### 1.2.2.&nbsp; mutliple aggregates for more than one column\n",
    "Not only can we look at multiple aggregates for one column. We can also look at multiple aggregates over multiple columns. Here we again `.groupby()` `sku` and take the `.sum()` and `.count()` of `product_quantity`, **and also** look at the `.mean()` of the `unit_price`."
   ]
  },
  {
   "cell_type": "code",
   "execution_count": null,
   "metadata": {
    "id": "yGPFDBBl35VV"
   },
   "outputs": [],
   "source": [
    "(\n",
    "    ol_df\n",
    "    .groupby(\"sku\")\n",
    "    .agg({\"product_quantity\": [\"sum\", \"count\"], \"unit_price\": \"mean\"})\n",
    "    .nlargest(10, (\"product_quantity\", \"sum\"))\n",
    ")"
   ]
  },
  {
   "cell_type": "markdown",
   "metadata": {
    "id": "VtQqcHUj2bxn"
   },
   "source": [
    "## 2.&nbsp; `.groupby()` multiple features\n",
    "It's also possible to `.groupby()` multiple categories. Let's see how many products we sold each month."
   ]
  },
  {
   "cell_type": "code",
   "execution_count": null,
   "metadata": {
    "id": "Gx3zB61ZX_NM"
   },
   "outputs": [],
   "source": [
    "(\n",
    "    ol_df\n",
    "    .groupby([ol_df[\"date\"].dt.year,\n",
    "              ol_df[\"date\"].dt.month])[\"product_quantity\"]\n",
    "    .sum()\n",
    " )"
   ]
  },
  {
   "cell_type": "markdown",
   "metadata": {
    "id": "5eCJ-0YCqdMH"
   },
   "source": [
    "Looks like the end of the year and the begining of the year are the busiest times."
   ]
  },
  {
   "cell_type": "markdown",
   "metadata": {
    "id": "fhSTALCdHNs4"
   },
   "source": [
    "### 1.4.&nbsp; `.groupby()` aggregate plotting\n",
    "It's also possible to quickly plot aggregates with `.groupby()`, which can help us better understand the data. Let's plot the above values showing how many products we sold each month."
   ]
  },
  {
   "cell_type": "code",
   "execution_count": null,
   "metadata": {
    "id": "fYcSi8rbvqkc"
   },
   "outputs": [],
   "source": [
    "(\n",
    "    ol_df.groupby([ol_df[\"date\"].dt.year,\n",
    "                   ol_df[\"date\"].dt.month])\n",
    "    [\"product_quantity\"].sum()\n",
    "    .plot(figsize=(16, 12))\n",
    ");"
   ]
  },
  {
   "cell_type": "markdown",
   "metadata": {
    "id": "6LDe4vd8wOJS"
   },
   "source": [
    "## 3.&nbsp; `.resample()`\n",
    "\n",
    "Resampling allows us to easily aggregate time series data. When using `.resample()`, we have to define:\n",
    "- The frequency of time for which to group the data (e.g. 5 minutely, hourly, daily...) expressed as a \"frequency string\" (`\"W\"` for weekly, `\"ME\"` for month end...). Find all available frequency strings [here](https://pandas.pydata.org/pandas-docs/stable/user_guide/timeseries.html#dateoffset-objects).\n",
    "- The column with the dates group by needs to be passed to the `on` parameter (unless you want group by the index).\n",
    "- The aggregate function (`sum()`, `count()`, `mean()`...)\n",
    "- The numerical column/s to aggregate.\n",
    "\n",
    "With this we can easily recreate our groupby above, where we looked at the amount of products sold each month. The date displayed is the last day of the given month."
   ]
  },
  {
   "cell_type": "code",
   "execution_count": null,
   "metadata": {
    "id": "R8hb5n2zwfct"
   },
   "outputs": [],
   "source": [
    "(\n",
    "    ol_df\n",
    "    .resample(\"ME\", on=\"date\")\n",
    "    [\"product_quantity\"].sum()\n",
    "    .sort_values(ascending=False)\n",
    ")"
   ]
  },
  {
   "cell_type": "markdown",
   "metadata": {
    "id": "HL0K2INaC5TC"
   },
   "source": [
    "We can also quickly plot a daily graph for the amount of products sold."
   ]
  },
  {
   "cell_type": "code",
   "execution_count": null,
   "metadata": {
    "id": "mJylW2glwdge"
   },
   "outputs": [],
   "source": [
    "(\n",
    "    ol_df\n",
    "    .resample(\"1D3H\", on=\"date\")\n",
    "    [\"product_quantity\"].sum()\n",
    "    .plot(figsize=(12, 8))\n",
    " );"
   ]
  },
  {
   "cell_type": "markdown",
   "metadata": {
    "id": "WFFTrGagraNu"
   },
   "source": [
    "We can create the same graph as above using `.groupby()`, it just takes a little more code"
   ]
  },
  {
   "cell_type": "code",
   "execution_count": null,
   "metadata": {
    "id": "L7LQ7w6Qrlnb"
   },
   "outputs": [],
   "source": [
    "(\n",
    "    ol_df\n",
    "    .groupby([ol_df.date.dt.month])\n",
    "    [\"product_quantity\"].mean()\n",
    "    .plot.bar(figsize=(12, 8))\n",
    " );"
   ]
  },
  {
   "cell_type": "markdown",
   "metadata": {
    "id": "zMBquCgarx0E"
   },
   "source": [
    "As you can see from the x-axis of the two charts above, `.resample()` works a little more inuitvely when you want to group by datetimes. This isn't to say that you cannot use `.groupby()` with datetimes, of course you can. `.resample()` just provides us with a little extra flexibility to group datetime by specific groups. For example, you can create `.resample()` input strings such as `2H20min` for groups of 2 hours 20minutes, `3min` for groups of 3 minutes, `1D3H` for 1 day 3hours etc..."
   ]
  },
  {
   "cell_type": "markdown",
   "metadata": {
    "id": "m050CtFNk0aG"
   },
   "source": [
    "# Challenges"
   ]
  },
  {
   "cell_type": "markdown",
   "metadata": {
    "id": "qzK9J3B2mWyT"
   },
   "source": [
    "## Challenge 1. What are the top 8 most sold products?"
   ]
  },
  {
   "cell_type": "code",
   "execution_count": 8,
   "metadata": {
    "colab": {
     "base_uri": "https://localhost:8080/",
     "height": 366
    },
    "executionInfo": {
     "elapsed": 211,
     "status": "ok",
     "timestamp": 1733392316896,
     "user": {
      "displayName": "Rockwell Gulassa",
      "userId": "14106447454396264222"
     },
     "user_tz": -60
    },
    "id": "ykMv1QQN5Ujx",
    "outputId": "515b13e9-0390-469a-9683-f3a19fd8ca0f"
   },
   "outputs": [
    {
     "data": {
      "text/html": [
       "<div>\n",
       "<style scoped>\n",
       "    .dataframe tbody tr th:only-of-type {\n",
       "        vertical-align: middle;\n",
       "    }\n",
       "\n",
       "    .dataframe tbody tr th {\n",
       "        vertical-align: top;\n",
       "    }\n",
       "\n",
       "    .dataframe thead th {\n",
       "        text-align: right;\n",
       "    }\n",
       "</style>\n",
       "<table border=\"1\" class=\"dataframe\">\n",
       "  <thead>\n",
       "    <tr style=\"text-align: right;\">\n",
       "      <th></th>\n",
       "      <th>product_quantity</th>\n",
       "    </tr>\n",
       "    <tr>\n",
       "      <th>sku</th>\n",
       "      <th></th>\n",
       "    </tr>\n",
       "  </thead>\n",
       "  <tbody>\n",
       "    <tr>\n",
       "      <th>APP1190</th>\n",
       "      <td>5576</td>\n",
       "    </tr>\n",
       "    <tr>\n",
       "      <th>APP0698</th>\n",
       "      <td>2337</td>\n",
       "    </tr>\n",
       "    <tr>\n",
       "      <th>WDT0183</th>\n",
       "      <td>1828</td>\n",
       "    </tr>\n",
       "    <tr>\n",
       "      <th>APP1922</th>\n",
       "      <td>1663</td>\n",
       "    </tr>\n",
       "    <tr>\n",
       "      <th>APP0927</th>\n",
       "      <td>1618</td>\n",
       "    </tr>\n",
       "    <tr>\n",
       "      <th>SAM0074</th>\n",
       "      <td>1346</td>\n",
       "    </tr>\n",
       "    <tr>\n",
       "      <th>APP1970</th>\n",
       "      <td>1182</td>\n",
       "    </tr>\n",
       "    <tr>\n",
       "      <th>APP1221</th>\n",
       "      <td>1131</td>\n",
       "    </tr>\n",
       "  </tbody>\n",
       "</table>\n",
       "</div><br><label><b>dtype:</b> int64</label>"
      ],
      "text/plain": [
       "sku\n",
       "APP1190    5576\n",
       "APP0698    2337\n",
       "WDT0183    1828\n",
       "APP1922    1663\n",
       "APP0927    1618\n",
       "SAM0074    1346\n",
       "APP1970    1182\n",
       "APP1221    1131\n",
       "Name: product_quantity, dtype: int64"
      ]
     },
     "execution_count": 8,
     "metadata": {},
     "output_type": "execute_result"
    }
   ],
   "source": [
    "# your code here\n",
    "(\n",
    "    ol_df\n",
    "    .groupby(\"sku\")\n",
    "    [\"product_quantity\"].sum()\n",
    "    .nlargest(8)\n",
    ")"
   ]
  },
  {
   "cell_type": "markdown",
   "metadata": {
    "id": "PXYMOnwWyfkf"
   },
   "source": [
    "## Challenge 2. How many products did each of the 5 largest orders contain?"
   ]
  },
  {
   "cell_type": "code",
   "execution_count": 12,
   "metadata": {
    "colab": {
     "base_uri": "https://localhost:8080/",
     "height": 237
    },
    "executionInfo": {
     "elapsed": 232,
     "status": "ok",
     "timestamp": 1733392594899,
     "user": {
      "displayName": "Rockwell Gulassa",
      "userId": "14106447454396264222"
     },
     "user_tz": -60
    },
    "id": "EStMw8mQ5hkz",
    "outputId": "809b87b3-a24d-4be1-f6be-b2eb60ef7cda"
   },
   "outputs": [
    {
     "data": {
      "application/vnd.google.colaboratory.intrinsic+json": {
       "summary": "{\n  \"name\": \")\",\n  \"rows\": 5,\n  \"fields\": [\n    {\n      \"column\": \"id_order\",\n      \"properties\": {\n        \"dtype\": \"number\",\n        \"std\": 32977,\n        \"min\": 335057,\n        \"max\": 417536,\n        \"num_unique_values\": 5,\n        \"samples\": [\n          349475,\n          417536,\n          349133\n        ],\n        \"semantic_type\": \"\",\n        \"description\": \"\"\n      }\n    },\n    {\n      \"column\": \"product_quantity\",\n      \"properties\": {\n        \"dtype\": \"number\",\n        \"std\": 356,\n        \"min\": 200,\n        \"max\": 999,\n        \"num_unique_values\": 5,\n        \"samples\": [\n          800,\n          200,\n          555\n        ],\n        \"semantic_type\": \"\",\n        \"description\": \"\"\n      }\n    },\n    {\n      \"column\": \"sku\",\n      \"properties\": {\n        \"dtype\": \"number\",\n        \"std\": 0,\n        \"min\": 1,\n        \"max\": 2,\n        \"num_unique_values\": 2,\n        \"samples\": [\n          2,\n          1\n        ],\n        \"semantic_type\": \"\",\n        \"description\": \"\"\n      }\n    }\n  ]\n}",
       "type": "dataframe"
      },
      "text/html": [
       "\n",
       "  <div id=\"df-d7543979-599e-4d80-ba3b-d09105b9d5f3\" class=\"colab-df-container\">\n",
       "    <div>\n",
       "<style scoped>\n",
       "    .dataframe tbody tr th:only-of-type {\n",
       "        vertical-align: middle;\n",
       "    }\n",
       "\n",
       "    .dataframe tbody tr th {\n",
       "        vertical-align: top;\n",
       "    }\n",
       "\n",
       "    .dataframe thead th {\n",
       "        text-align: right;\n",
       "    }\n",
       "</style>\n",
       "<table border=\"1\" class=\"dataframe\">\n",
       "  <thead>\n",
       "    <tr style=\"text-align: right;\">\n",
       "      <th></th>\n",
       "      <th>product_quantity</th>\n",
       "      <th>sku</th>\n",
       "    </tr>\n",
       "    <tr>\n",
       "      <th>id_order</th>\n",
       "      <th></th>\n",
       "      <th></th>\n",
       "    </tr>\n",
       "  </thead>\n",
       "  <tbody>\n",
       "    <tr>\n",
       "      <th>346221</th>\n",
       "      <td>999</td>\n",
       "      <td>1</td>\n",
       "    </tr>\n",
       "    <tr>\n",
       "      <th>349475</th>\n",
       "      <td>800</td>\n",
       "      <td>1</td>\n",
       "    </tr>\n",
       "    <tr>\n",
       "      <th>349133</th>\n",
       "      <td>555</td>\n",
       "      <td>1</td>\n",
       "    </tr>\n",
       "    <tr>\n",
       "      <th>335057</th>\n",
       "      <td>202</td>\n",
       "      <td>2</td>\n",
       "    </tr>\n",
       "    <tr>\n",
       "      <th>417536</th>\n",
       "      <td>200</td>\n",
       "      <td>1</td>\n",
       "    </tr>\n",
       "  </tbody>\n",
       "</table>\n",
       "</div>\n",
       "    <div class=\"colab-df-buttons\">\n",
       "\n",
       "  <div class=\"colab-df-container\">\n",
       "    <button class=\"colab-df-convert\" onclick=\"convertToInteractive('df-d7543979-599e-4d80-ba3b-d09105b9d5f3')\"\n",
       "            title=\"Convert this dataframe to an interactive table.\"\n",
       "            style=\"display:none;\">\n",
       "\n",
       "  <svg xmlns=\"http://www.w3.org/2000/svg\" height=\"24px\" viewBox=\"0 -960 960 960\">\n",
       "    <path d=\"M120-120v-720h720v720H120Zm60-500h600v-160H180v160Zm220 220h160v-160H400v160Zm0 220h160v-160H400v160ZM180-400h160v-160H180v160Zm440 0h160v-160H620v160ZM180-180h160v-160H180v160Zm440 0h160v-160H620v160Z\"/>\n",
       "  </svg>\n",
       "    </button>\n",
       "\n",
       "  <style>\n",
       "    .colab-df-container {\n",
       "      display:flex;\n",
       "      gap: 12px;\n",
       "    }\n",
       "\n",
       "    .colab-df-convert {\n",
       "      background-color: #E8F0FE;\n",
       "      border: none;\n",
       "      border-radius: 50%;\n",
       "      cursor: pointer;\n",
       "      display: none;\n",
       "      fill: #1967D2;\n",
       "      height: 32px;\n",
       "      padding: 0 0 0 0;\n",
       "      width: 32px;\n",
       "    }\n",
       "\n",
       "    .colab-df-convert:hover {\n",
       "      background-color: #E2EBFA;\n",
       "      box-shadow: 0px 1px 2px rgba(60, 64, 67, 0.3), 0px 1px 3px 1px rgba(60, 64, 67, 0.15);\n",
       "      fill: #174EA6;\n",
       "    }\n",
       "\n",
       "    .colab-df-buttons div {\n",
       "      margin-bottom: 4px;\n",
       "    }\n",
       "\n",
       "    [theme=dark] .colab-df-convert {\n",
       "      background-color: #3B4455;\n",
       "      fill: #D2E3FC;\n",
       "    }\n",
       "\n",
       "    [theme=dark] .colab-df-convert:hover {\n",
       "      background-color: #434B5C;\n",
       "      box-shadow: 0px 1px 3px 1px rgba(0, 0, 0, 0.15);\n",
       "      filter: drop-shadow(0px 1px 2px rgba(0, 0, 0, 0.3));\n",
       "      fill: #FFFFFF;\n",
       "    }\n",
       "  </style>\n",
       "\n",
       "    <script>\n",
       "      const buttonEl =\n",
       "        document.querySelector('#df-d7543979-599e-4d80-ba3b-d09105b9d5f3 button.colab-df-convert');\n",
       "      buttonEl.style.display =\n",
       "        google.colab.kernel.accessAllowed ? 'block' : 'none';\n",
       "\n",
       "      async function convertToInteractive(key) {\n",
       "        const element = document.querySelector('#df-d7543979-599e-4d80-ba3b-d09105b9d5f3');\n",
       "        const dataTable =\n",
       "          await google.colab.kernel.invokeFunction('convertToInteractive',\n",
       "                                                    [key], {});\n",
       "        if (!dataTable) return;\n",
       "\n",
       "        const docLinkHtml = 'Like what you see? Visit the ' +\n",
       "          '<a target=\"_blank\" href=https://colab.research.google.com/notebooks/data_table.ipynb>data table notebook</a>'\n",
       "          + ' to learn more about interactive tables.';\n",
       "        element.innerHTML = '';\n",
       "        dataTable['output_type'] = 'display_data';\n",
       "        await google.colab.output.renderOutput(dataTable, element);\n",
       "        const docLink = document.createElement('div');\n",
       "        docLink.innerHTML = docLinkHtml;\n",
       "        element.appendChild(docLink);\n",
       "      }\n",
       "    </script>\n",
       "  </div>\n",
       "\n",
       "\n",
       "<div id=\"df-63d97d27-2f15-43ec-b1b1-019ec952bf43\">\n",
       "  <button class=\"colab-df-quickchart\" onclick=\"quickchart('df-63d97d27-2f15-43ec-b1b1-019ec952bf43')\"\n",
       "            title=\"Suggest charts\"\n",
       "            style=\"display:none;\">\n",
       "\n",
       "<svg xmlns=\"http://www.w3.org/2000/svg\" height=\"24px\"viewBox=\"0 0 24 24\"\n",
       "     width=\"24px\">\n",
       "    <g>\n",
       "        <path d=\"M19 3H5c-1.1 0-2 .9-2 2v14c0 1.1.9 2 2 2h14c1.1 0 2-.9 2-2V5c0-1.1-.9-2-2-2zM9 17H7v-7h2v7zm4 0h-2V7h2v10zm4 0h-2v-4h2v4z\"/>\n",
       "    </g>\n",
       "</svg>\n",
       "  </button>\n",
       "\n",
       "<style>\n",
       "  .colab-df-quickchart {\n",
       "      --bg-color: #E8F0FE;\n",
       "      --fill-color: #1967D2;\n",
       "      --hover-bg-color: #E2EBFA;\n",
       "      --hover-fill-color: #174EA6;\n",
       "      --disabled-fill-color: #AAA;\n",
       "      --disabled-bg-color: #DDD;\n",
       "  }\n",
       "\n",
       "  [theme=dark] .colab-df-quickchart {\n",
       "      --bg-color: #3B4455;\n",
       "      --fill-color: #D2E3FC;\n",
       "      --hover-bg-color: #434B5C;\n",
       "      --hover-fill-color: #FFFFFF;\n",
       "      --disabled-bg-color: #3B4455;\n",
       "      --disabled-fill-color: #666;\n",
       "  }\n",
       "\n",
       "  .colab-df-quickchart {\n",
       "    background-color: var(--bg-color);\n",
       "    border: none;\n",
       "    border-radius: 50%;\n",
       "    cursor: pointer;\n",
       "    display: none;\n",
       "    fill: var(--fill-color);\n",
       "    height: 32px;\n",
       "    padding: 0;\n",
       "    width: 32px;\n",
       "  }\n",
       "\n",
       "  .colab-df-quickchart:hover {\n",
       "    background-color: var(--hover-bg-color);\n",
       "    box-shadow: 0 1px 2px rgba(60, 64, 67, 0.3), 0 1px 3px 1px rgba(60, 64, 67, 0.15);\n",
       "    fill: var(--button-hover-fill-color);\n",
       "  }\n",
       "\n",
       "  .colab-df-quickchart-complete:disabled,\n",
       "  .colab-df-quickchart-complete:disabled:hover {\n",
       "    background-color: var(--disabled-bg-color);\n",
       "    fill: var(--disabled-fill-color);\n",
       "    box-shadow: none;\n",
       "  }\n",
       "\n",
       "  .colab-df-spinner {\n",
       "    border: 2px solid var(--fill-color);\n",
       "    border-color: transparent;\n",
       "    border-bottom-color: var(--fill-color);\n",
       "    animation:\n",
       "      spin 1s steps(1) infinite;\n",
       "  }\n",
       "\n",
       "  @keyframes spin {\n",
       "    0% {\n",
       "      border-color: transparent;\n",
       "      border-bottom-color: var(--fill-color);\n",
       "      border-left-color: var(--fill-color);\n",
       "    }\n",
       "    20% {\n",
       "      border-color: transparent;\n",
       "      border-left-color: var(--fill-color);\n",
       "      border-top-color: var(--fill-color);\n",
       "    }\n",
       "    30% {\n",
       "      border-color: transparent;\n",
       "      border-left-color: var(--fill-color);\n",
       "      border-top-color: var(--fill-color);\n",
       "      border-right-color: var(--fill-color);\n",
       "    }\n",
       "    40% {\n",
       "      border-color: transparent;\n",
       "      border-right-color: var(--fill-color);\n",
       "      border-top-color: var(--fill-color);\n",
       "    }\n",
       "    60% {\n",
       "      border-color: transparent;\n",
       "      border-right-color: var(--fill-color);\n",
       "    }\n",
       "    80% {\n",
       "      border-color: transparent;\n",
       "      border-right-color: var(--fill-color);\n",
       "      border-bottom-color: var(--fill-color);\n",
       "    }\n",
       "    90% {\n",
       "      border-color: transparent;\n",
       "      border-bottom-color: var(--fill-color);\n",
       "    }\n",
       "  }\n",
       "</style>\n",
       "\n",
       "  <script>\n",
       "    async function quickchart(key) {\n",
       "      const quickchartButtonEl =\n",
       "        document.querySelector('#' + key + ' button');\n",
       "      quickchartButtonEl.disabled = true;  // To prevent multiple clicks.\n",
       "      quickchartButtonEl.classList.add('colab-df-spinner');\n",
       "      try {\n",
       "        const charts = await google.colab.kernel.invokeFunction(\n",
       "            'suggestCharts', [key], {});\n",
       "      } catch (error) {\n",
       "        console.error('Error during call to suggestCharts:', error);\n",
       "      }\n",
       "      quickchartButtonEl.classList.remove('colab-df-spinner');\n",
       "      quickchartButtonEl.classList.add('colab-df-quickchart-complete');\n",
       "    }\n",
       "    (() => {\n",
       "      let quickchartButtonEl =\n",
       "        document.querySelector('#df-63d97d27-2f15-43ec-b1b1-019ec952bf43 button');\n",
       "      quickchartButtonEl.style.display =\n",
       "        google.colab.kernel.accessAllowed ? 'block' : 'none';\n",
       "    })();\n",
       "  </script>\n",
       "</div>\n",
       "\n",
       "    </div>\n",
       "  </div>\n"
      ],
      "text/plain": [
       "          product_quantity  sku\n",
       "id_order                       \n",
       "346221                 999    1\n",
       "349475                 800    1\n",
       "349133                 555    1\n",
       "335057                 202    2\n",
       "417536                 200    1"
      ]
     },
     "execution_count": 12,
     "metadata": {},
     "output_type": "execute_result"
    }
   ],
   "source": [
    "# your code here\n",
    "(\n",
    "  ol_df.groupby(\"id_order\")\n",
    "  .agg({\"product_quantity\" : \"sum\",\n",
    "        'sku':'nunique'})\n",
    "  .nlargest(5, columns='product_quantity')\n",
    ")"
   ]
  },
  {
   "cell_type": "markdown",
   "metadata": {
    "id": "4LhlPkykEOZT"
   },
   "source": [
    "## Challenge 3. We want to see how busy the days of the week are to know when we need more staff. Rank the days of the week from busiest to least busy.\n",
    "Bonus points for using your pandas plotting skills."
   ]
  },
  {
   "cell_type": "code",
   "execution_count": 30,
   "metadata": {
    "colab": {
     "base_uri": "https://localhost:8080/",
     "height": 625
    },
    "executionInfo": {
     "elapsed": 697,
     "status": "ok",
     "timestamp": 1733393281373,
     "user": {
      "displayName": "Rockwell Gulassa",
      "userId": "14106447454396264222"
     },
     "user_tz": -60
    },
    "id": "vJFw9Tmrvswv",
    "outputId": "87a1e75b-b493-40ac-b7ec-1b2166b59e54"
   },
   "outputs": [
    {
     "data": {
      "text/plain": [
       "<Axes: xlabel='weekday'>"
      ]
     },
     "execution_count": 30,
     "metadata": {},
     "output_type": "execute_result"
    },
    {
     "data": {
      "image/png": "[encoded data removed]",
      "text/plain": [
       "<Figure size 800x600 with 1 Axes>"
      ]
     },
     "metadata": {},
     "output_type": "display_data"
    }
   ],
   "source": [
    "# your code here\n",
    "ol_df['weekday'] = ol_df[\"date\"].dt.day_name()\n",
    "(\n",
    "  ol_df.groupby('weekday')\n",
    "  # Three different ways to measure how busy it is\n",
    "  .agg({'product_quantity':'sum',\n",
    "        'id_order':'nunique',\n",
    "        'sku':'nunique'})\n",
    "  .sort_values(by='product_quantity', ascending=False)\n",
    "  .plot.bar(figsize=(8, 6))\n",
    ");"
   ]
  },
  {
   "cell_type": "markdown",
   "metadata": {
    "id": "lO2HC3vYzBB3"
   },
   "source": [
    "## Challenge 4. Which brands sell the most products?"
   ]
  },
  {
   "cell_type": "code",
   "execution_count": 34,
   "metadata": {
    "colab": {
     "base_uri": "https://localhost:8080/"
    },
    "executionInfo": {
     "elapsed": 250,
     "status": "ok",
     "timestamp": 1733393614509,
     "user": {
      "displayName": "Rockwell Gulassa",
      "userId": "14106447454396264222"
     },
     "user_tz": -60
    },
    "id": "TeDcqgUsTH42",
    "outputId": "b9aaacbb-e62b-4b0f-8cc2-ab40d84a65b4"
   },
   "outputs": [
    {
     "data": {
      "text/plain": [
       "0"
      ]
     },
     "execution_count": 34,
     "metadata": {},
     "output_type": "execute_result"
    }
   ],
   "source": [
    "(brands['short'].str.len() !=3).sum()"
   ]
  },
  {
   "cell_type": "code",
   "execution_count": 35,
   "metadata": {
    "colab": {
     "base_uri": "https://localhost:8080/"
    },
    "executionInfo": {
     "elapsed": 227,
     "status": "ok",
     "timestamp": 1733393638573,
     "user": {
      "displayName": "Rockwell Gulassa",
      "userId": "14106447454396264222"
     },
     "user_tz": -60
    },
    "id": "XjIh66iSTGNR",
    "outputId": "b89473cb-6e93-4265-eda0-1e750ad6cbbd"
   },
   "outputs": [
    {
     "data": {
      "text/plain": [
       "11193"
      ]
     },
     "execution_count": 35,
     "metadata": {},
     "output_type": "execute_result"
    }
   ],
   "source": [
    "(ol_df['sku'].str.len() != 7).sum()"
   ]
  },
  {
   "cell_type": "code",
   "execution_count": 37,
   "metadata": {
    "colab": {
     "base_uri": "https://localhost:8080/",
     "height": 489
    },
    "executionInfo": {
     "elapsed": 429,
     "status": "ok",
     "timestamp": 1733393747455,
     "user": {
      "displayName": "Rockwell Gulassa",
      "userId": "14106447454396264222"
     },
     "user_tz": -60
    },
    "id": "0lPd1Y_ZIhkD",
    "outputId": "ac8e136c-5cd3-48e3-bded-ad01b4e2da95"
   },
   "outputs": [
    {
     "data": {
      "text/html": [
       "<div>\n",
       "<style scoped>\n",
       "    .dataframe tbody tr th:only-of-type {\n",
       "        vertical-align: middle;\n",
       "    }\n",
       "\n",
       "    .dataframe tbody tr th {\n",
       "        vertical-align: top;\n",
       "    }\n",
       "\n",
       "    .dataframe thead th {\n",
       "        text-align: right;\n",
       "    }\n",
       "</style>\n",
       "<table border=\"1\" class=\"dataframe\">\n",
       "  <thead>\n",
       "    <tr style=\"text-align: right;\">\n",
       "      <th></th>\n",
       "      <th>product_quantity</th>\n",
       "    </tr>\n",
       "    <tr>\n",
       "      <th>long</th>\n",
       "      <th></th>\n",
       "    </tr>\n",
       "  </thead>\n",
       "  <tbody>\n",
       "    <tr>\n",
       "      <th>Apple</th>\n",
       "      <td>58210</td>\n",
       "    </tr>\n",
       "    <tr>\n",
       "      <th>OWC</th>\n",
       "      <td>12069</td>\n",
       "    </tr>\n",
       "    <tr>\n",
       "      <th>Western Digital</th>\n",
       "      <td>9821</td>\n",
       "    </tr>\n",
       "    <tr>\n",
       "      <th>Pack</th>\n",
       "      <td>8004</td>\n",
       "    </tr>\n",
       "    <tr>\n",
       "      <th>Crucial</th>\n",
       "      <td>7955</td>\n",
       "    </tr>\n",
       "    <tr>\n",
       "      <th>...</th>\n",
       "      <td>...</td>\n",
       "    </tr>\n",
       "    <tr>\n",
       "      <th>Acme</th>\n",
       "      <td>3</td>\n",
       "    </tr>\n",
       "    <tr>\n",
       "      <th>Retrak Utopia</th>\n",
       "      <td>3</td>\n",
       "    </tr>\n",
       "    <tr>\n",
       "      <th>Opulus</th>\n",
       "      <td>2</td>\n",
       "    </tr>\n",
       "    <tr>\n",
       "      <th>Pqi</th>\n",
       "      <td>2</td>\n",
       "    </tr>\n",
       "    <tr>\n",
       "      <th>Promise</th>\n",
       "      <td>1</td>\n",
       "    </tr>\n",
       "  </tbody>\n",
       "</table>\n",
       "<p>181 rows × 1 columns</p>\n",
       "</div><br><label><b>dtype:</b> int64</label>"
      ],
      "text/plain": [
       "long\n",
       "Apple              58210\n",
       "OWC                12069\n",
       "Western Digital     9821\n",
       "Pack                8004\n",
       "Crucial             7955\n",
       "                   ...  \n",
       "Acme                   3\n",
       "Retrak Utopia          3\n",
       "Opulus                 2\n",
       "Pqi                    2\n",
       "Promise                1\n",
       "Name: product_quantity, Length: 181, dtype: int64"
      ]
     },
     "execution_count": 37,
     "metadata": {},
     "output_type": "execute_result"
    }
   ],
   "source": [
    "# your code here\n",
    "sku_short = ol_df['sku'].str[:3]\n",
    "brands_merged = brands.merge(ol_df, left_on='short', right_on=sku_short, how='inner')\n",
    "brands_merged.groupby('long')['product_quantity'].sum().sort_values(ascending=False)"
   ]
  },
  {
   "cell_type": "markdown",
   "metadata": {
    "id": "Nwvy0aVmQl_v"
   },
   "source": [
    "## Challenge 5. Plot a line chart for the amount of orders each hour of November 2017"
   ]
  },
  {
   "cell_type": "code",
   "execution_count": 41,
   "metadata": {
    "colab": {
     "base_uri": "https://localhost:8080/",
     "height": 744
    },
    "executionInfo": {
     "elapsed": 2527,
     "status": "ok",
     "timestamp": 1733393974211,
     "user": {
      "displayName": "Rockwell Gulassa",
      "userId": "14106447454396264222"
     },
     "user_tz": -60
    },
    "id": "GTYN3cYAIjSr",
    "outputId": "a3f4d721-c321-482c-cf35-9584cfef74f8"
   },
   "outputs": [
    {
     "data": {
      "image/png": "[encoded data removed]",
      "text/plain": [
       "<Figure size 1200x800 with 1 Axes>"
      ]
     },
     "metadata": {},
     "output_type": "display_data"
    }
   ],
   "source": [
    "# month_mask = ol_df[\"date\"].dt.month == 11\n",
    "# year_mask =ol_df[\"date\"].dt.year == 2017\n",
    "date_mask = ol_df['date'].dt.strftime('%m, %Y') == '11, 2017'\n",
    "(\n",
    "    ol_df.loc[date_mask]\n",
    "    .resample(\"h\", on=\"date\")\n",
    "    [\"product_quantity\"].sum()\n",
    "    .plot(figsize=(12, 8))\n",
    " );"
   ]
  }
 ],
 "metadata": {
  "colab": {
   "provenance": [
    {
     "file_id": "1TLWUHTR10ekbjPHhvk4Hg7f-QT_TYbMA",
     "timestamp": 1733332403593
    },
    {
     "file_id": "12dvr7WGPjOAZKy0jMCpHuvKg2ZtaOQwv",
     "timestamp": 1661152530998
    }
   ]
  },
  "kernelspec": {
   "display_name": "py312env",
   "language": "python",
   "name": "python3"
  },
  "language_info": {
   "name": "python",
   "version": "3.12.7"
  }
 },
 "nbformat": 4,
 "nbformat_minor": 0
}
