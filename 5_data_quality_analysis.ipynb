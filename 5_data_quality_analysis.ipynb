{
 "cells": [
  {
   "cell_type": "code",
   "execution_count": 2,
   "metadata": {},
   "outputs": [],
   "source": [
    "import pandas as pd"
   ]
  },
  {
   "cell_type": "code",
   "execution_count": 3,
   "metadata": {},
   "outputs": [],
   "source": [
    "# orders_cl.csv\n",
    "url = \"https://drive.google.com/file/d/1Tla62vfu__kCqvgypZyVt2S9VuC016yH/view?usp=sharing\"\n",
    "path = \"https://drive.google.com/uc?export=download&id=\"+url.split(\"/\")[-2]\n",
    "orders_cl = pd.read_csv(path)\n",
    "\n",
    "# orderlines_cl.csv\n",
    "url = \"https://drive.google.com/file/d/1OhtkQS2fwOYdzfd-qPh7im35iLc-L9TA/view?usp=sharing\"\n",
    "path = \"https://drive.google.com/uc?export=download&id=\"+url.split(\"/\")[-2]\n",
    "orderlines_cl = pd.read_csv(path)\n",
    "\n",
    "# products_cl.csv\n",
    "url = \"https://drive.google.com/file/d/1s7Lai4NSlsYjGEPg1QSOUJobNYVsZBOJ/view?usp=sharing\"\n",
    "path = \"https://drive.google.com/uc?export=download&id=\"+url.split(\"/\")[-2]\n",
    "products_cl = pd.read_csv(path)\n",
    "\n",
    "# brands_cl.csv\n",
    "url = \"https://drive.google.com/file/d/1XGyabaa4mAkjixMk3XPgx_14OoSse3rs/view?usp=sharing\"\n",
    "path = \"https://drive.google.com/uc?export=download&id=\"+url.split(\"/\")[-2]\n",
    "brands = pd.read_csv(path)"
   ]
  },
  {
   "cell_type": "code",
   "execution_count": 4,
   "metadata": {},
   "outputs": [],
   "source": [
    "orders_df = orders_cl.copy()\n",
    "orderlines_df = orderlines_cl.copy()\n",
    "products_df = products_cl.copy()\n",
    "brands_df = brands.copy()"
   ]
  },
  {
   "cell_type": "markdown",
   "metadata": {},
   "source": [
    "### Exclude unwanted orders"
   ]
  },
  {
   "cell_type": "code",
   "execution_count": 5,
   "metadata": {},
   "outputs": [],
   "source": [
    "# your code here\n",
    "# 1. Filter down to just sales\n",
    "state_mask = orders_df['state'].isin(['Cancelled', 'Shopping Basket'])\n",
    "orders_completed = orders_df.loc[~state_mask].copy()\n",
    "\n",
    "# 2. Filter orderlines just those in the orders data frame\n",
    "# 2.1 identify orders in orders df\n",
    "orders_in_o_df = orders_completed['order_id']\n",
    "# 2.2 filter orderlines to just those\n",
    "orderlines_connected = orderlines_df.loc[orderlines_df['id_order'].isin(orders_in_o_df)].copy()\n",
    "\n",
    "#3. Filter orders down to just those in the orderlines data frame\n",
    "# 2.1 identify orders in orderlines df\n",
    "orders_in_ol_df = orderlines_df['id_order']\n",
    "# 2.2 filter orders to just those\n",
    "orders_connected = orders_completed.loc[orders_completed['order_id'].isin(orders_in_ol_df)]"
   ]
  },
  {
   "cell_type": "markdown",
   "metadata": {},
   "source": [
    "### Exclude orders with unknown products"
   ]
  },
  {
   "cell_type": "code",
   "execution_count": 9,
   "metadata": {},
   "outputs": [],
   "source": [
    "# your code here\n",
    "# 1. Identify corrupted orderlines\n",
    "existing_products = products_cl['sku']\n",
    "corrupted_filter = ~(orderlines_connected['sku'].isin(existing_products))\n",
    "\n",
    "# 2. Identify orders with corrupted orderlines (they are corrupted)\n",
    "corrupted_orders = orderlines_connected.loc[corrupted_filter, 'id_order']\n",
    "clean_orders = orders_connected.loc[~(orders_connected['order_id'].isin(corrupted_orders))]\n",
    "\n",
    "# 3. Identify other orderlines in corrupted orders\n",
    "clean_orderlines = orderlines_connected.loc[~(orderlines_connected['id_order'].isin(corrupted_orders))]"
   ]
  },
  {
   "cell_type": "markdown",
   "metadata": {},
   "source": [
    "### Explore revenue"
   ]
  },
  {
   "cell_type": "markdown",
   "metadata": {},
   "source": [
    "##### Create `unit_price_total` column in `orderlines`"
   ]
  },
  {
   "cell_type": "code",
   "execution_count": 11,
   "metadata": {},
   "outputs": [
    {
     "name": "stderr",
     "output_type": "stream",
     "text": [
      "C:\\Users\\kosta\\AppData\\Local\\Temp\\ipykernel_10760\\816583924.py:1: SettingWithCopyWarning: \n",
      "A value is trying to be set on a copy of a slice from a DataFrame.\n",
      "Try using .loc[row_indexer,col_indexer] = value instead\n",
      "\n",
      "See the caveats in the documentation: https://pandas.pydata.org/pandas-docs/stable/user_guide/indexing.html#returning-a-view-versus-a-copy\n",
      "  clean_orderlines.loc[:, 'unit_price_total'] = (clean_orderlines['unit_price']\n"
     ]
    }
   ],
   "source": [
    "clean_orderlines.loc[:, 'unit_price_total'] = (clean_orderlines['unit_price']\n",
    "                                               * clean_orderlines['product_quantity'])"
   ]
  },
  {
   "cell_type": "markdown",
   "metadata": {},
   "source": [
    "##### Merge the total it with `orders`"
   ]
  },
  {
   "cell_type": "markdown",
   "metadata": {},
   "source": [
    "in this way we can compare the total paid, with the total cost of the order and spot extra costs or discounts"
   ]
  },
  {
   "cell_type": "code",
   "execution_count": 12,
   "metadata": {},
   "outputs": [
    {
     "data": {
      "text/html": [
       "<div>\n",
       "<style scoped>\n",
       "    .dataframe tbody tr th:only-of-type {\n",
       "        vertical-align: middle;\n",
       "    }\n",
       "\n",
       "    .dataframe tbody tr th {\n",
       "        vertical-align: top;\n",
       "    }\n",
       "\n",
       "    .dataframe thead th {\n",
       "        text-align: right;\n",
       "    }\n",
       "</style>\n",
       "<table border=\"1\" class=\"dataframe\">\n",
       "  <thead>\n",
       "    <tr style=\"text-align: right;\">\n",
       "      <th></th>\n",
       "      <th>order_id</th>\n",
       "      <th>created_date</th>\n",
       "      <th>total_paid</th>\n",
       "      <th>state</th>\n",
       "      <th>unit_price_total</th>\n",
       "    </tr>\n",
       "  </thead>\n",
       "  <tbody>\n",
       "    <tr>\n",
       "      <th>0</th>\n",
       "      <td>241423</td>\n",
       "      <td>2017-11-06 13:10:02</td>\n",
       "      <td>136.15</td>\n",
       "      <td>Completed</td>\n",
       "      <td>129.16</td>\n",
       "    </tr>\n",
       "    <tr>\n",
       "      <th>1</th>\n",
       "      <td>242832</td>\n",
       "      <td>2017-12-31 17:40:03</td>\n",
       "      <td>15.76</td>\n",
       "      <td>Completed</td>\n",
       "      <td>10.77</td>\n",
       "    </tr>\n",
       "    <tr>\n",
       "      <th>2</th>\n",
       "      <td>243330</td>\n",
       "      <td>2017-02-16 10:59:38</td>\n",
       "      <td>84.98</td>\n",
       "      <td>Completed</td>\n",
       "      <td>77.99</td>\n",
       "    </tr>\n",
       "    <tr>\n",
       "      <th>3</th>\n",
       "      <td>245275</td>\n",
       "      <td>2017-06-28 11:35:37</td>\n",
       "      <td>149.00</td>\n",
       "      <td>Completed</td>\n",
       "      <td>149.00</td>\n",
       "    </tr>\n",
       "    <tr>\n",
       "      <th>4</th>\n",
       "      <td>245595</td>\n",
       "      <td>2017-01-21 12:52:47</td>\n",
       "      <td>112.97</td>\n",
       "      <td>Completed</td>\n",
       "      <td>105.98</td>\n",
       "    </tr>\n",
       "    <tr>\n",
       "      <th>...</th>\n",
       "      <td>...</td>\n",
       "      <td>...</td>\n",
       "      <td>...</td>\n",
       "      <td>...</td>\n",
       "      <td>...</td>\n",
       "    </tr>\n",
       "    <tr>\n",
       "      <th>77190</th>\n",
       "      <td>527392</td>\n",
       "      <td>2018-03-14 13:55:11</td>\n",
       "      <td>34.99</td>\n",
       "      <td>Pending</td>\n",
       "      <td>34.99</td>\n",
       "    </tr>\n",
       "    <tr>\n",
       "      <th>77191</th>\n",
       "      <td>527394</td>\n",
       "      <td>2018-03-14 13:55:15</td>\n",
       "      <td>161.00</td>\n",
       "      <td>Place Order</td>\n",
       "      <td>161.00</td>\n",
       "    </tr>\n",
       "    <tr>\n",
       "      <th>77192</th>\n",
       "      <td>527396</td>\n",
       "      <td>2018-03-14 13:55:44</td>\n",
       "      <td>141.58</td>\n",
       "      <td>Place Order</td>\n",
       "      <td>141.58</td>\n",
       "    </tr>\n",
       "    <tr>\n",
       "      <th>77193</th>\n",
       "      <td>527397</td>\n",
       "      <td>2018-03-14 13:56:38</td>\n",
       "      <td>42.99</td>\n",
       "      <td>Place Order</td>\n",
       "      <td>42.99</td>\n",
       "    </tr>\n",
       "    <tr>\n",
       "      <th>77194</th>\n",
       "      <td>527401</td>\n",
       "      <td>2018-03-14 13:58:36</td>\n",
       "      <td>18.98</td>\n",
       "      <td>Place Order</td>\n",
       "      <td>13.99</td>\n",
       "    </tr>\n",
       "  </tbody>\n",
       "</table>\n",
       "<p>77195 rows × 5 columns</p>\n",
       "</div>"
      ],
      "text/plain": [
       "       order_id         created_date  total_paid        state  \\\n",
       "0        241423  2017-11-06 13:10:02      136.15    Completed   \n",
       "1        242832  2017-12-31 17:40:03       15.76    Completed   \n",
       "2        243330  2017-02-16 10:59:38       84.98    Completed   \n",
       "3        245275  2017-06-28 11:35:37      149.00    Completed   \n",
       "4        245595  2017-01-21 12:52:47      112.97    Completed   \n",
       "...         ...                  ...         ...          ...   \n",
       "77190    527392  2018-03-14 13:55:11       34.99      Pending   \n",
       "77191    527394  2018-03-14 13:55:15      161.00  Place Order   \n",
       "77192    527396  2018-03-14 13:55:44      141.58  Place Order   \n",
       "77193    527397  2018-03-14 13:56:38       42.99  Place Order   \n",
       "77194    527401  2018-03-14 13:58:36       18.98  Place Order   \n",
       "\n",
       "       unit_price_total  \n",
       "0                129.16  \n",
       "1                 10.77  \n",
       "2                 77.99  \n",
       "3                149.00  \n",
       "4                105.98  \n",
       "...                 ...  \n",
       "77190             34.99  \n",
       "77191            161.00  \n",
       "77192            141.58  \n",
       "77193             42.99  \n",
       "77194             13.99  \n",
       "\n",
       "[77195 rows x 5 columns]"
      ]
     },
     "execution_count": 12,
     "metadata": {},
     "output_type": "execute_result"
    }
   ],
   "source": [
    "price_totals = (\n",
    "    clean_orderlines\n",
    "    .groupby('id_order')\n",
    "    .agg({'unit_price_total':'sum'})\n",
    ")\n",
    "orders_info = clean_orders.merge(price_totals,\n",
    "                                 left_on='order_id',\n",
    "                                 right_on='id_order')\n",
    "orders_info"
   ]
  },
  {
   "cell_type": "markdown",
   "metadata": {},
   "source": [
    "##### What is the `average` difference between `total_paid` and `unit_price_total`?"
   ]
  },
  {
   "cell_type": "code",
   "execution_count": 13,
   "metadata": {},
   "outputs": [
    {
     "data": {
      "text/plain": [
       "count    77195.000000\n",
       "mean         3.374529\n",
       "std         19.354553\n",
       "min       -165.000000\n",
       "25%          0.000000\n",
       "50%          3.990000\n",
       "75%          4.990000\n",
       "max       3984.990000\n",
       "Name: difference, dtype: float64"
      ]
     },
     "execution_count": 13,
     "metadata": {},
     "output_type": "execute_result"
    }
   ],
   "source": [
    "orders_info.loc[:, 'difference'] = (orders_info['total_paid']\n",
    "                                    - orders_info['unit_price_total'])\n",
    "orders_info['difference'].describe()"
   ]
  },
  {
   "cell_type": "markdown",
   "metadata": {},
   "source": [
    "##### What is the distribution of these differences?"
   ]
  },
  {
   "cell_type": "code",
   "execution_count": 14,
   "metadata": {},
   "outputs": [
    {
     "name": "stdout",
     "output_type": "stream",
     "text": [
      "12.475000000000023 -7.485000000000014\n"
     ]
    }
   ],
   "source": [
    "q1 = orders_info['difference'].quantile(0.25)\n",
    "q3 = orders_info['difference'].quantile(0.75)\n",
    "\n",
    "iqr = q3 - q1\n",
    "\n",
    "upper_bound = q3 + (1.5 * iqr)\n",
    "lower_bound = q1 - (1.5 * iqr)\n",
    "print(upper_bound, lower_bound)"
   ]
  },
  {
   "cell_type": "code",
   "execution_count": 15,
   "metadata": {},
   "outputs": [
    {
     "data": {
      "text/plain": [
       "<Axes: >"
      ]
     },
     "execution_count": 15,
     "metadata": {},
     "output_type": "execute_result"
    },
    {
     "data": {
      "image/png": "[encoded data removed]",
      "text/plain": [
       "<Figure size 640x480 with 1 Axes>"
      ]
     },
     "metadata": {},
     "output_type": "display_data"
    }
   ],
   "source": [
    "(\n",
    "    orders_info\n",
    "    .loc[orders_info['difference'].between(lower_bound, upper_bound)]\n",
    "    ['difference'].hist(bins=50)\n",
    ")"
   ]
  }
 ],
 "metadata": {
  "kernelspec": {
   "display_name": "py312env",
   "language": "python",
   "name": "python3"
  },
  "language_info": {
   "codemirror_mode": {
    "name": "ipython",
    "version": 3
   },
   "file_extension": ".py",
   "mimetype": "text/x-python",
   "name": "python",
   "nbconvert_exporter": "python",
   "pygments_lexer": "ipython3",
   "version": "3.12.7"
  }
 },
 "nbformat": 4,
 "nbformat_minor": 2
}
