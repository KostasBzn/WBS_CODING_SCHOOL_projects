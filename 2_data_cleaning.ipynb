{
 "cells": [
  {
   "cell_type": "code",
   "execution_count": 50,
   "metadata": {},
   "outputs": [],
   "source": [
    "import pandas as pd"
   ]
  },
  {
   "cell_type": "markdown",
   "metadata": {},
   "source": [
    "### Import raw data"
   ]
  },
  {
   "cell_type": "code",
   "execution_count": 51,
   "metadata": {},
   "outputs": [],
   "source": [
    "orders_raw = pd.read_csv('raw_data/orders.csv')\n",
    "orderlines_raw = pd.read_csv('raw_data/orderlines.csv')\n",
    "products_raw = pd.read_csv('raw_data/products.csv')\n",
    "brands_raw = pd.read_csv('raw_data/brands.csv')"
   ]
  },
  {
   "cell_type": "code",
   "execution_count": 52,
   "metadata": {},
   "outputs": [],
   "source": [
    "orders_df = orders_raw.copy()\n",
    "orderlines_df = orderlines_raw.copy()\n",
    "products_df = products_raw.copy()\n",
    "brands_df = brands_raw.copy()"
   ]
  },
  {
   "cell_type": "markdown",
   "metadata": {},
   "source": [
    "### Spot missing values"
   ]
  },
  {
   "cell_type": "code",
   "execution_count": 53,
   "metadata": {},
   "outputs": [
    {
     "name": "stdout",
     "output_type": "stream",
     "text": [
      "Orders missing values:\n",
      "order_id        0\n",
      "created_date    0\n",
      "total_paid      5\n",
      "state           0\n",
      "dtype: int64\n",
      "\n",
      "Orderlines missing values:\n",
      "id                  0\n",
      "id_order            0\n",
      "product_id          0\n",
      "product_quantity    0\n",
      "sku                 0\n",
      "unit_price          0\n",
      "date                0\n",
      "dtype: int64\n",
      "\n",
      "Products missing values:\n",
      "sku             0\n",
      "name            0\n",
      "desc            7\n",
      "price          46\n",
      "promo_price     0\n",
      "in_stock        0\n",
      "type           50\n",
      "dtype: int64\n",
      "\n",
      "Brands missing values:\n",
      "short    0\n",
      "long     0\n",
      "dtype: int64\n"
     ]
    }
   ],
   "source": [
    "print(\"Orders missing values:\")\n",
    "print(orders_df.isna().sum())\n",
    "\n",
    "print(\"\\nOrderlines missing values:\")\n",
    "print(orderlines_df.isna().sum())\n",
    "\n",
    "print(\"\\nProducts missing values:\")\n",
    "print(products_df.isna().sum())\n",
    "\n",
    "print(\"\\nBrands missing values:\")\n",
    "print(brands_df.isna().sum())"
   ]
  },
  {
   "cell_type": "markdown",
   "metadata": {},
   "source": [
    "### Drop duplicates"
   ]
  },
  {
   "cell_type": "code",
   "execution_count": 54,
   "metadata": {},
   "outputs": [],
   "source": [
    "products_df.drop_duplicates(inplace=True)\n",
    "orders_df.drop_duplicates(inplace=True)\n",
    "orderlines_df.drop_duplicates(inplace=True)\n",
    "brands_df.drop_duplicates(inplace=True)"
   ]
  },
  {
   "cell_type": "markdown",
   "metadata": {},
   "source": [
    "### Drop missing values"
   ]
  },
  {
   "cell_type": "code",
   "execution_count": 55,
   "metadata": {},
   "outputs": [],
   "source": [
    "products_df.dropna(axis=0, subset=['desc', 'price'], inplace=True)\n",
    "orders_df.dropna(axis=0, subset='total_paid', inplace=True)"
   ]
  },
  {
   "cell_type": "markdown",
   "metadata": {},
   "source": [
    "### Convert dates"
   ]
  },
  {
   "cell_type": "code",
   "execution_count": 56,
   "metadata": {},
   "outputs": [],
   "source": [
    "orders_df['created_date'] = pd.to_datetime(orders_df['created_date'])\n",
    "orderlines_df['date'] = pd.to_datetime(orderlines_df['date'])"
   ]
  },
  {
   "cell_type": "markdown",
   "metadata": {},
   "source": [
    "### Double dot problem"
   ]
  },
  {
   "cell_type": "code",
   "execution_count": null,
   "metadata": {},
   "outputs": [
    {
     "name": "stderr",
     "output_type": "stream",
     "text": [
      "<>:2: SyntaxWarning: invalid escape sequence '\\.'\n",
      "<>:2: SyntaxWarning: invalid escape sequence '\\.'\n",
      "C:\\Users\\kosta\\AppData\\Local\\Temp\\ipykernel_6920\\1387195839.py:2: SyntaxWarning: invalid escape sequence '\\.'\n",
      "  price_double_dot_mask = products_df['price'].str.count('\\.') > 1\n"
     ]
    }
   ],
   "source": [
    "# Checks if there is more than 1 .\n",
    "double_dot_price_mask = products_df['price'].str.count('\\.') > 1\n",
    "# Get the proportion of trues and falses to see what percent is corrupted\n",
    "double_dot_price_mask.value_counts(normalize=True)\n",
    "products_df = products_df[~double_dot_price_mask].reset_index(drop=True)\n"
   ]
  },
  {
   "cell_type": "code",
   "execution_count": null,
   "metadata": {},
   "outputs": [
    {
     "name": "stderr",
     "output_type": "stream",
     "text": [
      "<>:2: SyntaxWarning: invalid escape sequence '\\.'\n",
      "<>:2: SyntaxWarning: invalid escape sequence '\\.'\n",
      "C:\\Users\\kosta\\AppData\\Local\\Temp\\ipykernel_6920\\2717560173.py:2: SyntaxWarning: invalid escape sequence '\\.'\n",
      "  promo_double_dot_mask = products_df['promo_price'].str.count('\\.') > 1\n"
     ]
    },
    {
     "data": {
      "text/plain": [
       "promo_price\n",
       "False    0.541617\n",
       "True     0.458383\n",
       "Name: proportion, dtype: float64"
      ]
     },
     "execution_count": 68,
     "metadata": {},
     "output_type": "execute_result"
    }
   ],
   "source": [
    "# Checks if there is more than 1 .\n",
    "double_dot_promo_mask = products_df['promo_price'].str.count('\\.') > 1\n",
    "\n",
    "double_dot_promo_mask.value_counts(normalize=True)"
   ]
  },
  {
   "cell_type": "markdown",
   "metadata": {},
   "source": [
    "### More than 2 numbers after the decimal"
   ]
  },
  {
   "cell_type": "code",
   "execution_count": 60,
   "metadata": {},
   "outputs": [
    {
     "name": "stderr",
     "output_type": "stream",
     "text": [
      "<>:2: SyntaxWarning: invalid escape sequence '\\.'\n",
      "<>:2: SyntaxWarning: invalid escape sequence '\\.'\n",
      "C:\\Users\\kosta\\AppData\\Local\\Temp\\ipykernel_6920\\2578471727.py:2: SyntaxWarning: invalid escape sequence '\\.'\n",
      "  price_double_dot_mask = products_df['price'].str.count('\\.') > 1\n"
     ]
    },
    {
     "data": {
      "text/plain": [
       "price\n",
       "False    0.936807\n",
       "True     0.063193\n",
       "Name: proportion, dtype: float64"
      ]
     },
     "execution_count": 60,
     "metadata": {},
     "output_type": "execute_result"
    }
   ],
   "source": [
    "# Checks if there is more than 1 .\n",
    "price_double_dot_mask = products_df['price'].str.count('\\.') > 1\n",
    "# Get the proportion of trues and falses to see what percent is corrupted\n",
    "price_double_dot_mask.value_counts(normalize=True)"
   ]
  },
  {
   "cell_type": "code",
   "execution_count": 61,
   "metadata": {},
   "outputs": [
    {
     "name": "stderr",
     "output_type": "stream",
     "text": [
      "<>:2: SyntaxWarning: invalid escape sequence '\\.'\n",
      "<>:2: SyntaxWarning: invalid escape sequence '\\.'\n",
      "C:\\Users\\kosta\\AppData\\Local\\Temp\\ipykernel_6920\\1861834296.py:2: SyntaxWarning: invalid escape sequence '\\.'\n",
      "  promo_double_dot_mask = products_df['promo_price'].str.count('\\.') > 1\n"
     ]
    },
    {
     "data": {
      "text/plain": [
       "promo_price\n",
       "False    0.525129\n",
       "True     0.474871\n",
       "Name: proportion, dtype: float64"
      ]
     },
     "execution_count": 61,
     "metadata": {},
     "output_type": "execute_result"
    }
   ],
   "source": [
    "# Checks if there is more than 1 .\n",
    "promo_double_dot_mask = products_df['promo_price'].str.count('\\.') > 1\n",
    "# Get the proportion of trues and falses to see what percent is corrupted\n",
    "promo_double_dot_mask.value_counts(normalize=True)"
   ]
  },
  {
   "cell_type": "markdown",
   "metadata": {},
   "source": [
    "### Validate relationships between tables"
   ]
  },
  {
   "cell_type": "code",
   "execution_count": null,
   "metadata": {},
   "outputs": [],
   "source": [
    "missing_orders = ~orderlines_df['id_order'].isin(orders_df['order_id'])\n",
    "missing_products = ~orderlines_df['sku'].isin(products_df['sku'])\n",
    "orderlines_df = orderlines_df[~missing_orders & ~missing_products]\n",
    "orders_df = orders_df[~orders_df['order_id'].isin(orderlines_df['id_order'])]\n",
    "products_df = products_df[~products_df['sku'].isin(orderlines_df['sku'])]"
   ]
  }
 ],
 "metadata": {
  "kernelspec": {
   "display_name": "py312env",
   "language": "python",
   "name": "python3"
  },
  "language_info": {
   "codemirror_mode": {
    "name": "ipython",
    "version": 3
   },
   "file_extension": ".py",
   "mimetype": "text/x-python",
   "name": "python",
   "nbconvert_exporter": "python",
   "pygments_lexer": "ipython3",
   "version": "3.12.7"
  }
 },
 "nbformat": 4,
 "nbformat_minor": 2
}
