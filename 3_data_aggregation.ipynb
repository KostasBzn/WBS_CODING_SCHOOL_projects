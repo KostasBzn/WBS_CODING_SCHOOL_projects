{
 "cells": [
  {
   "cell_type": "code",
   "execution_count": 1,
   "metadata": {},
   "outputs": [],
   "source": [
    "import pandas as pd"
   ]
  },
  {
   "cell_type": "markdown",
   "metadata": {},
   "source": [
    "### Import the raw data"
   ]
  },
  {
   "cell_type": "code",
   "execution_count": null,
   "metadata": {},
   "outputs": [],
   "source": [
    "orders_raw = pd.read_csv('raw_data/orders.csv')\n",
    "orderlines_raw = pd.read_csv('raw_data/orderlines.csv')\n",
    "products_raw = pd.read_csv('raw_data/products.csv')\n",
    "brands_raw = pd.read_csv('raw_data/brands.csv')"
   ]
  },
  {
   "cell_type": "markdown",
   "metadata": {},
   "source": [
    "### Create copies"
   ]
  },
  {
   "cell_type": "code",
   "execution_count": 2,
   "metadata": {},
   "outputs": [
    {
     "ename": "NameError",
     "evalue": "name 'orders_raw' is not defined",
     "output_type": "error",
     "traceback": [
      "\u001b[1;31m---------------------------------------------------------------------------\u001b[0m",
      "\u001b[1;31mNameError\u001b[0m                                 Traceback (most recent call last)",
      "Cell \u001b[1;32mIn[2], line 1\u001b[0m\n\u001b[1;32m----> 1\u001b[0m orders_df \u001b[38;5;241m=\u001b[39m \u001b[43morders_raw\u001b[49m\u001b[38;5;241m.\u001b[39mcopy()\n\u001b[0;32m      2\u001b[0m orderlines_df \u001b[38;5;241m=\u001b[39m orderlines_raw\u001b[38;5;241m.\u001b[39mcopy()\n\u001b[0;32m      3\u001b[0m products_df \u001b[38;5;241m=\u001b[39m products_raw\u001b[38;5;241m.\u001b[39mcopy()\n",
      "\u001b[1;31mNameError\u001b[0m: name 'orders_raw' is not defined"
     ]
    }
   ],
   "source": [
    "orders_df = orders_raw.copy()\n",
    "orderlines_df = orderlines_raw.copy()\n",
    "products_df = products_raw.copy()\n",
    "brands_df = brands_raw.copy()"
   ]
  }
 ],
 "metadata": {
  "kernelspec": {
   "display_name": "py312env",
   "language": "python",
   "name": "python3"
  },
  "language_info": {
   "codemirror_mode": {
    "name": "ipython",
    "version": 3
   },
   "file_extension": ".py",
   "mimetype": "text/x-python",
   "name": "python",
   "nbconvert_exporter": "python",
   "pygments_lexer": "ipython3",
   "version": "3.12.7"
  }
 },
 "nbformat": 4,
 "nbformat_minor": 2
}
